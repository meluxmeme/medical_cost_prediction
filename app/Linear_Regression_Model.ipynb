{
 "cells": [
  {
   "cell_type": "markdown",
   "metadata": {},
   "source": [
    "This is a Linear Regression model building from the scratch."
   ]
  },
  {
   "cell_type": "code",
   "execution_count": 2,
   "metadata": {},
   "outputs": [
    {
     "name": "stdout",
     "output_type": "stream",
     "text": [
      "Requirement already satisfied: numpy in d:\\laxmi\\medical_cost_prediction\\virtual_env\\lib\\site-packages (2.2.5)\n",
      "Requirement already satisfied: pandas in d:\\laxmi\\medical_cost_prediction\\virtual_env\\lib\\site-packages (2.2.3)\n",
      "Requirement already satisfied: scikit-learn in d:\\laxmi\\medical_cost_prediction\\virtual_env\\lib\\site-packages (1.6.1)\n",
      "Requirement already satisfied: matplotlib in d:\\laxmi\\medical_cost_prediction\\virtual_env\\lib\\site-packages (3.10.1)\n",
      "Requirement already satisfied: python-dateutil>=2.8.2 in d:\\laxmi\\medical_cost_prediction\\virtual_env\\lib\\site-packages (from pandas) (2.9.0.post0)\n",
      "Requirement already satisfied: pytz>=2020.1 in d:\\laxmi\\medical_cost_prediction\\virtual_env\\lib\\site-packages (from pandas) (2025.2)\n",
      "Requirement already satisfied: tzdata>=2022.7 in d:\\laxmi\\medical_cost_prediction\\virtual_env\\lib\\site-packages (from pandas) (2025.2)\n",
      "Requirement already satisfied: scipy>=1.6.0 in d:\\laxmi\\medical_cost_prediction\\virtual_env\\lib\\site-packages (from scikit-learn) (1.15.2)\n",
      "Requirement already satisfied: joblib>=1.2.0 in d:\\laxmi\\medical_cost_prediction\\virtual_env\\lib\\site-packages (from scikit-learn) (1.5.0)\n",
      "Requirement already satisfied: threadpoolctl>=3.1.0 in d:\\laxmi\\medical_cost_prediction\\virtual_env\\lib\\site-packages (from scikit-learn) (3.6.0)\n",
      "Requirement already satisfied: contourpy>=1.0.1 in d:\\laxmi\\medical_cost_prediction\\virtual_env\\lib\\site-packages (from matplotlib) (1.3.2)\n",
      "Requirement already satisfied: cycler>=0.10 in d:\\laxmi\\medical_cost_prediction\\virtual_env\\lib\\site-packages (from matplotlib) (0.12.1)\n",
      "Requirement already satisfied: fonttools>=4.22.0 in d:\\laxmi\\medical_cost_prediction\\virtual_env\\lib\\site-packages (from matplotlib) (4.57.0)\n",
      "Requirement already satisfied: kiwisolver>=1.3.1 in d:\\laxmi\\medical_cost_prediction\\virtual_env\\lib\\site-packages (from matplotlib) (1.4.8)\n",
      "Requirement already satisfied: packaging>=20.0 in d:\\laxmi\\medical_cost_prediction\\virtual_env\\lib\\site-packages (from matplotlib) (25.0)\n",
      "Requirement already satisfied: pillow>=8 in d:\\laxmi\\medical_cost_prediction\\virtual_env\\lib\\site-packages (from matplotlib) (11.2.1)\n",
      "Requirement already satisfied: pyparsing>=2.3.1 in d:\\laxmi\\medical_cost_prediction\\virtual_env\\lib\\site-packages (from matplotlib) (3.2.3)\n",
      "Requirement already satisfied: six>=1.5 in d:\\laxmi\\medical_cost_prediction\\virtual_env\\lib\\site-packages (from python-dateutil>=2.8.2->pandas) (1.17.0)\n"
     ]
    },
    {
     "name": "stderr",
     "output_type": "stream",
     "text": [
      "\n",
      "[notice] A new release of pip is available: 23.2.1 -> 25.1.1\n",
      "[notice] To update, run: python.exe -m pip install --upgrade pip\n"
     ]
    }
   ],
   "source": [
    "!pip install numpy pandas scikit-learn matplotlib\n"
   ]
  },
  {
   "cell_type": "code",
   "execution_count": 3,
   "metadata": {},
   "outputs": [],
   "source": [
    "import numpy as np\n",
    "import pandas as pd\n",
    "from sklearn.model_selection import train_test_split\n",
    "import matplotlib.pyplot as plt"
   ]
  },
  {
   "cell_type": "markdown",
   "metadata": {},
   "source": [
    "Here is the Linear Regression Model class with training and predicting functions with given data X and y."
   ]
  },
  {
   "cell_type": "code",
   "execution_count": 4,
   "metadata": {},
   "outputs": [],
   "source": [
    "class LinearRegression:\n",
    "    def __init__(self, learning_rate, num_itiration):\n",
    "        self.learning_rate = learning_rate\n",
    "        self.num_itiration = num_itiration\n",
    "        self.weight = None\n",
    "        self.bias = None\n",
    "\n",
    "    def train(self, X,y):\n",
    "\n",
    "        # Convert X and y to numpy array\n",
    "        # X = np.array(X)\n",
    "        # y = np.array(y)\n",
    "        \n",
    "        num_samples, num_features = X.shape\n",
    "        self.weight = np.zeros(num_features)\n",
    "        self.bias =0 \n",
    "        X_transposed = np.transpose(X) \n",
    "        \n",
    "        for i in range(self.num_itiration):\n",
    "            y_pred = np.dot(X, self.weight) + self.bias\n",
    "            dw = (2/num_samples) * np.dot(X_transposed,(y_pred-y))\n",
    "            db = (2/num_samples) * np.sum(y_pred-y)\n",
    "\n",
    "            self.weight= self.weight - (self.learning_rate * dw)\n",
    "            self.bias = self.bias - (self.learning_rate * db)\n",
    "            \n",
    "    def predict(self, X):\n",
    "        y_pred = np.dot(X, self.weight) + self.bias\n",
    "        return y_pred"
   ]
  },
  {
   "cell_type": "markdown",
   "metadata": {},
   "source": [
    "use the above class for training the model and predicting values."
   ]
  },
  {
   "cell_type": "code",
   "execution_count": 5,
   "metadata": {},
   "outputs": [
    {
     "data": {
      "text/plain": [
       "age         0\n",
       "sex         0\n",
       "bmi         0\n",
       "children    0\n",
       "smoker      0\n",
       "region      0\n",
       "charges     0\n",
       "dtype: int64"
      ]
     },
     "execution_count": 5,
     "metadata": {},
     "output_type": "execute_result"
    }
   ],
   "source": [
    "dataset = pd.read_csv(\"insurance.csv\")\n",
    "dataset.isna().sum()\n"
   ]
  },
  {
   "cell_type": "code",
   "execution_count": 6,
   "metadata": {},
   "outputs": [
    {
     "name": "stdout",
     "output_type": "stream",
     "text": [
      "   age     bmi  children      charges  region_northeast  region_northwest  \\\n",
      "0   19  27.900         0  16884.92400                 0                 0   \n",
      "1   18  33.770         1   1725.55230                 0                 0   \n",
      "2   28  33.000         3   4449.46200                 0                 0   \n",
      "3   33  22.705         0  21984.47061                 0                 1   \n",
      "4   32  28.880         0   3866.85520                 0                 1   \n",
      "\n",
      "   region_southeast  region_southwest  sex_female  sex_male  smoker_no  \\\n",
      "0                 0                 1           1         0          0   \n",
      "1                 1                 0           0         1          1   \n",
      "2                 1                 0           0         1          1   \n",
      "3                 0                 0           0         1          1   \n",
      "4                 0                 0           0         1          1   \n",
      "\n",
      "   smoker_yes  \n",
      "0           1  \n",
      "1           0  \n",
      "2           0  \n",
      "3           0  \n",
      "4           0  \n"
     ]
    }
   ],
   "source": [
    "# Apply one-hot encoding to the 'region' and 'sex' columns\n",
    "encoded_region = pd.get_dummies(dataset[\"region\"], prefix=\"region\").astype(int)\n",
    "encoded_sex = pd.get_dummies(dataset[\"sex\"], prefix=\"sex\").astype(int)\n",
    "encoded_smoker = pd.get_dummies(dataset[\"smoker\"], prefix=\"smoker\").astype(int)\n",
    "\n",
    "# Concatenate the encoded columns back to the dataset\n",
    "dataset = pd.concat([dataset, encoded_region, encoded_sex, encoded_smoker], axis=1)\n",
    "\n",
    "#  drop the original 'region' and 'sex' columns if needed\n",
    "dataset = dataset.drop(columns=[\"region\", \"sex\", \"smoker\"])\n",
    "\n",
    "# Display the updated dataset\n",
    "print(dataset.head())\n"
   ]
  },
  {
   "cell_type": "code",
   "execution_count": 7,
   "metadata": {},
   "outputs": [
    {
     "data": {
      "text/plain": [
       "age                 0\n",
       "bmi                 0\n",
       "children            0\n",
       "charges             0\n",
       "region_northeast    0\n",
       "region_northwest    0\n",
       "region_southeast    0\n",
       "region_southwest    0\n",
       "sex_female          0\n",
       "sex_male            0\n",
       "smoker_no           0\n",
       "smoker_yes          0\n",
       "dtype: int64"
      ]
     },
     "execution_count": 7,
     "metadata": {},
     "output_type": "execute_result"
    }
   ],
   "source": [
    "dataset.dtypes\n",
    "dataset.isna().sum()"
   ]
  },
  {
   "cell_type": "code",
   "execution_count": 8,
   "metadata": {},
   "outputs": [],
   "source": [
    "dataset = dataset.astype(float)\n"
   ]
  },
  {
   "cell_type": "code",
   "execution_count": 9,
   "metadata": {
    "scrolled": true
   },
   "outputs": [],
   "source": [
    "\n",
    "X = dataset.drop(columns = \"charges\")\n",
    "y = dataset[\"charges\"]\n",
    "X_train, X_test, y_train, y_test = train_test_split(X,y, test_size =0.2)\n"
   ]
  },
  {
   "cell_type": "code",
   "execution_count": 10,
   "metadata": {},
   "outputs": [],
   "source": [
    "model = LinearRegression(learning_rate=0.0001, num_itiration=1000)\n",
    "model.train(X_train, y_train)\n"
   ]
  },
  {
   "cell_type": "code",
   "execution_count": 11,
   "metadata": {},
   "outputs": [],
   "source": [
    "prediction = model.predict(X_test)"
   ]
  },
  {
   "cell_type": "code",
   "execution_count": 12,
   "metadata": {},
   "outputs": [],
   "source": [
    "def mse(y_test, predictions):\n",
    "    mse_val =  np.mean((y_test-predictions)**2)\n",
    "    return mse_val\n"
   ]
  },
  {
   "cell_type": "code",
   "execution_count": 13,
   "metadata": {},
   "outputs": [
    {
     "name": "stdout",
     "output_type": "stream",
     "text": [
      "113326170.61228053\n"
     ]
    }
   ],
   "source": [
    "mse_value = mse(y_test, prediction)\n",
    "print(mse_value)"
   ]
  }
 ],
 "metadata": {
  "kernelspec": {
   "display_name": "virtual_env",
   "language": "python",
   "name": "python3"
  },
  "language_info": {
   "codemirror_mode": {
    "name": "ipython",
    "version": 3
   },
   "file_extension": ".py",
   "mimetype": "text/x-python",
   "name": "python",
   "nbconvert_exporter": "python",
   "pygments_lexer": "ipython3",
   "version": "3.12.0"
  }
 },
 "nbformat": 4,
 "nbformat_minor": 4
}
